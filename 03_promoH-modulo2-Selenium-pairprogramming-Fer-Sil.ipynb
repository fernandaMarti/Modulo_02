{
 "cells": [
  {
   "cell_type": "markdown",
   "metadata": {},
   "source": [
    "# Ejercicios Selenium Extracción de Datos de Libros de Ficción en La Casa del Libro"
   ]
  },
  {
   "cell_type": "markdown",
   "metadata": {},
   "source": [
    "Imagina que eres un analista de datos en una importante cadena de librerías y tu misión es recopilar información actualizada sobre los libros de ficción disponibles en el mercado. Esta información es vital para tomar decisiones estratégicas, como determinar qué libros de ficción deben ser promocionados, ajustar los precios competitivamente y gestionar adecuadamente el inventario. La Casa del Libro es uno de los principales competidores, por lo que es esencial mantenerse al tanto de su catálogo.\n",
    "\n",
    "Objetivo del Ejercicio: El objetivo de este ejercicio es que las alumnas utilicen Selenium en Python para automatizar la extracción de datos de los libros de ficción en el sitio web de La Casa del Libro. Deberán obtener información clave de los libros, incluyendo título, autor, precio, editorial, idioma y número de páginas.\n",
    "\n",
    "Descripción:\n",
    "\n",
    "Acceso a la Página de La Casa del Libro: Utilizando Selenium, deberás automatizar el proceso de navegación hacia la página de libros de ficción en el sitio web de La Casa del Libro.\n",
    "\n",
    "Extracción de Datos de las 5 Primeras Páginas: Una vez en la página de libros de ficción, debes programar su script para que recorra los 5 primeros libros de libros, extrayendo los siguientes datos de cada libro:\n",
    "\n",
    "    Título del libro.\n",
    "\n",
    "    Autor(es) del libro.\n",
    "\n",
    "    Precio del libro.\n",
    "\n",
    "    Editorial del libro.\n",
    "\n",
    "    Idioma del libro.\n",
    "\n",
    "    Número de páginas del libro.\n",
    "\n",
    "Almacenamiento de Datos: Los datos extraídos deben almacenarse en un DataFrame."
   ]
  },
  {
   "cell_type": "code",
   "execution_count": 1,
   "metadata": {},
   "outputs": [],
   "source": [
    "import requests\n",
    "import pandas as pd\n",
    "from bs4 import BeautifulSoup\n",
    "from selenium import webdriver  # Selenium es una herramienta para automatizar la interacción con navegadores web.\n",
    "from webdriver_manager.chrome import ChromeDriverManager  # ChromeDriverManager gestiona la instalación del controlador de Chrome.\n",
    "from selenium.webdriver.common.keys import Keys  # Keys es útil para simular eventos de teclado en Selenium.\n",
    "from selenium.webdriver.support.ui import Select  # Select se utiliza para interactuar con elementos <select> en páginas web.\n",
    "from time import sleep  # Sleep se utiliza para pausar la ejecución del programa por un número de segundos.\n",
    "pd.set_option('display.max_columns', None)"
   ]
  },
  {
   "cell_type": "code",
   "execution_count": 13,
   "metadata": {},
   "outputs": [],
   "source": [
    "driver = webdriver.Chrome()\n",
    "url = \"https://www.casadellibro.com\"\n",
    "driver.get(url)\n",
    "\n",
    "\n",
    "sleep(3)\n",
    "\n",
    "\n",
    "driver.find_element(\"css selector\", \"#onetrust-accept-btn-handler\").click()\n",
    "\n",
    "sleep(3)\n",
    "\n",
    "driver.close()\n",
    "\n"
   ]
  }
 ],
 "metadata": {
  "kernelspec": {
   "display_name": "base",
   "language": "python",
   "name": "python3"
  },
  "language_info": {
   "codemirror_mode": {
    "name": "ipython",
    "version": 3
   },
   "file_extension": ".py",
   "mimetype": "text/x-python",
   "name": "python",
   "nbconvert_exporter": "python",
   "pygments_lexer": "ipython3",
   "version": "3.11.5"
  }
 },
 "nbformat": 4,
 "nbformat_minor": 2
}
